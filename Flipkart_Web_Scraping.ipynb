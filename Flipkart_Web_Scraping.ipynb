{
 "cells": [
  {
   "cell_type": "code",
   "execution_count": 35,
   "id": "7a11c192",
   "metadata": {},
   "outputs": [],
   "source": [
    "from bs4 import BeautifulSoup\n",
    "import requests\n",
    "import pandas as pd\n",
    "import numpy as np\n",
    "\n",
    "# Function to extract product title\n",
    "def get_title(soup):\n",
    "    try:\n",
    "        # Outer tag object\n",
    "        title = soup.find('span', attrs={\"class\":'B_NuCI'})\n",
    "\n",
    "        #Inner NavigatableString Object\n",
    "        title_value = title.text\n",
    "\n",
    "        # Title as a string value\n",
    "        title_string = title_value.strip()\n",
    "\n",
    "    except AttributeError:\n",
    "        title_string = \"\"\n",
    "\n",
    "    return title_string"
   ]
  },
  {
   "cell_type": "code",
   "execution_count": 34,
   "id": "e33262c7",
   "metadata": {},
   "outputs": [],
   "source": [
    "# Function to extract Product Price\n",
    "def get_price(soup):\n",
    "    try:\n",
    "        price = soup.find(\"div\", attrs={\"class\":'_30jeq3'}).text.strip()\n",
    "    except AttributeError:\n",
    "        price = \"\"\n",
    "        \n",
    "    return price"
   ]
  },
  {
   "cell_type": "code",
   "execution_count": 36,
   "id": "8f79c656",
   "metadata": {},
   "outputs": [],
   "source": [
    "if __name__ == '__main__':\n",
    "\n",
    "    # Headers for request\n",
    "    HEADERS = ({\"User-Agent\": \"Mozilla/5.0 (Macintosh; Intel Mac OS X 10_15_7) AppleWebKit/537.36 (KHTML, like Gecko) Chrome/117.0.0.0 Safari/537.36\", \"Accept-Language\": \"en-GB,en-US;q=0.9,en;q=0.8\"})\n",
    "\n",
    "    # The webpage URL\n",
    "    URL = \"https://www.flipkart.com/search?q=ps5&otracker=search&otracker1=search&marketplace=FLIPKART&as-show=on&as=off\"\n",
    "\n",
    "    # HTTP Request\n",
    "    webpage = requests.get(URL, headers=HEADERS)\n",
    "\n",
    "    # Soup Object containing all data\n",
    "    soup = BeautifulSoup(webpage.content, \"html.parser\")\n",
    "\n",
    "    # Fetch links as List of Tag Objects\n",
    "    links = soup.find_all(\"a\", attrs={'class':'s1Q9rs'})\n",
    "\n",
    "    # Store the links\n",
    "    links_list = []\n",
    "\n",
    "    # Loop for extracting links from Tag objects\n",
    "    for link in links:\n",
    "        links_list.append(link.get('href'))\n",
    "\n",
    "    d = {\"title\":[], \"price\":[]}\n",
    "\n",
    "    # Loop for extracting product details from each link\n",
    "    for link in links_list:\n",
    "        new_webpage = requests.get(\"https://www.flipkart.com\" + link, headers=HEADERS)\n",
    "        new_soup = BeautifulSoup(new_webpage.content, \"html.parser\")\n",
    "        # Function calls to display all necessary product information\n",
    "        d['title'].append(get_title(new_soup))\n",
    "        d['price'].append(get_price(new_soup))\n",
    "\n",
    "    flipkart_df = pd.DataFrame.from_dict(d)\n",
    "    flipkart_df['title'].replace('',np.nan, inplace=True)\n",
    "    flipkart_df = flipkart_df.dropna(subset=['title'])\n",
    "    #flipkart_df.to_csv(\"flipkart.csv\", header=True, index=False)\n"
   ]
  },
  {
   "cell_type": "code",
   "execution_count": 28,
   "id": "cb1fa3f7",
   "metadata": {},
   "outputs": [
    {
     "data": {
      "text/plain": [
       "'SONY PlayStation 4 (PS4) Slim 1 TB with The Last of Us and Uncharted 4\\xa0\\xa0(Jet Black)'"
      ]
     },
     "execution_count": 28,
     "metadata": {},
     "output_type": "execute_result"
    }
   ],
   "source": [
    "new_soup.find('span', attrs={\"class\":'B_NuCI'}).text.strip()"
   ]
  },
  {
   "cell_type": "code",
   "execution_count": 30,
   "id": "edb57ec8",
   "metadata": {},
   "outputs": [
    {
     "data": {
      "text/plain": [
       "'₹32,990'"
      ]
     },
     "execution_count": 30,
     "metadata": {},
     "output_type": "execute_result"
    }
   ],
   "source": [
    "new_soup.find(\"div\", attrs={\"class\":'_30jeq3'}).text.strip()"
   ]
  },
  {
   "cell_type": "code",
   "execution_count": 37,
   "id": "74040c10",
   "metadata": {},
   "outputs": [
    {
     "data": {
      "text/plain": [
       "{'title': ['SONY PlayStation 5 console 825 GB\\xa0\\xa0(NA)',\n",
       "  \"SONY PlayStation 5 Digital Edition 825 GB with Astro's Playroom\\xa0\\xa0(White)\",\n",
       "  'SONY CFI-1208A 01x 825 GB SSD GB with EA SPORTS FC 24 full game voucher\\xa0\\xa0(White)',\n",
       "  'SONY PS5 Standard DualSense Bundle CFI-1208A01R 825GB SSD GB\\xa0\\xa0(White)',\n",
       "  'SONY MSM2 Limited Edition Bundle 825 GB with Spider-Man 2\\xa0\\xa0(Multicolor)',\n",
       "  'SONY PlayStation 5 console GoWR VCH bundle 825 GB with Yes\\xa0\\xa0(NA)',\n",
       "  'Playstation Slim 1TB Console With Extra Controller NA GB\\xa0\\xa0(Black)',\n",
       "  'Playstation 4 Slim Console 1TB\\xa0\\xa0(Black)',\n",
       "  'Playstation 4 Slim Console 500 GB\\xa0\\xa0(Black)',\n",
       "  'Playstation 4 PS4 Slim with Extra Dualshock 4 Wireless Magma Red Controller 500 GB\\xa0\\xa0(Black, YES)',\n",
       "  'D & Y Rockers-Game 1 GB with 3000 Games\\xa0\\xa0(Black)',\n",
       "  'GLOWISH MATT SCREEN PS-P POCKET GAME PLAYER VINTAGE GAMES INCLUDED 4 GB with 100 GAMES, Tekken 3, Racing, Contra, mario\\xa0\\xa0(Multicolor)',\n",
       "  'PTCMart 8 Bit PS5 Model Tv Video Game Console Classic With Inbuilt 453 Games Non Repeat 1 GB with Contra, Mario, Car Race, Jungle Book, Fighting Games\\xa0\\xa0(White)',\n",
       "  'Playstation 4 PS4 Slim 1 Tb with Extra Dualshock 4 Wireless Green Camouflage Controller 1000 GB\\xa0\\xa0(Black, yes)',\n",
       "  'PTCMart Classic 8 Bit Tv Video Game Console PS5 Model With Inbuilt 453 Games Non Repeat 1 GB with Contra, Mario, Car Race, Jungle Book, Fighting Games\\xa0\\xa0(White)',\n",
       "  'PTCMart Classic 8 Bit PS5 Model Tv Video Game Console With Inbuilt 453 Games Non Repeat 1 GB with Contra, Mario, Car Race, Jungle Book, Fighting Games\\xa0\\xa0(White)',\n",
       "  'PTCMart PS5 Model Classic 8 Bit Tv Video Game Console With Inbuilt 453 Games Non Repeat 1 GB with Contra, Mario, Car Race, Jungle Book, Fighting Games\\xa0\\xa0(White)',\n",
       "  'Playstation 4 PS4 Slim with Extra Dualshock 4 Wireless Green Camouflage Controller 500 GB\\xa0\\xa0(Black, yes)',\n",
       "  'Playstation 4 PS4 Slim 1 TB with Extra Dualshock 4 Wireless Midnight Blue Controller 1000 GB\\xa0\\xa0(Black, yes)',\n",
       "  'Playstation 4 PS4 Slim 1 Tb with Extra Dualshock 4 Wireless Magma Red Controller 1000 GB\\xa0\\xa0(Black, yes)',\n",
       "  'Playstation 4 PS4 Slim with Extra Dualshock 4 Wireless Midnight Blue Controller 500 GB\\xa0\\xa0(Black, yes)',\n",
       "  'SONY PS5 Console COD MW2 VCH Bundle (CFI-1208A01R) 825GB SSD GB with Call of Duty WMII Game\\xa0\\xa0(White)',\n",
       "  'SONY PlayStation 4 (PS4) Slim 500 GB\\xa0\\xa0(Glacier White)',\n",
       "  'SONY PS4 Slim 1 TB\\xa0\\xa0(Steel Black)',\n",
       "  'SONY PS4 Slim 1 TB with Detroit - Become Human, The Last of Us - Remastered, God of War, Fortnite (DLC)\\xa0\\xa0(Black, Yes)',\n",
       "  'SONY PS4 Slim 1 TB with Horizon Zero Dawn, God of War, Uncharted 4\\xa0\\xa0(Jet Black)',\n",
       "  'SONY PS4 500 GB with Horizon Zero Dawn, Uncharted 4 and God of War III: Remastered\\xa0\\xa0(Jet Black)',\n",
       "  'SONY PlayStation 4 (PS4) Slim 500 GB with Horizon Zero Dawn, Drive Club and Ratchet & Clank\\xa0\\xa0(Jet Black)',\n",
       "  'Sony PlayStation 4 (PS4) Slim 500 GB with Uncharted 4, Horizon Zero Dawn (Complete Edition) and Gran Turismo Sport\\xa0\\xa0(Jet Black)',\n",
       "  'SONY PlayStation 4 (PS4) Slim 1 TB with The Last of Us and Uncharted Collection\\xa0\\xa0(Jet Black)',\n",
       "  'SONY PS4 Slim 1000 GB\\xa0\\xa0(Black)',\n",
       "  'SONY PlayStation 4 (PS4) Slim 1 TB with Red Dead Redemption 2\\xa0\\xa0(Jet Black)',\n",
       "  'SONY PlayStation 4 1 TB with Drive Club\\xa0\\xa0(Jet Black, Extra Dual Shock 4 Controller)',\n",
       "  'SONY PlayStation 4 (PS4) Slim 1 TB with Uncharted 4 and Uncharted Collection\\xa0\\xa0(Jet Black)',\n",
       "  'SONY PlayStation 4 (PS4) Slim 1 TB with Uncharted Collection, The Last of Us Remastered and God of War Remastered\\xa0\\xa0(Jet Black)',\n",
       "  'SONY PlayStation 4 1 TB with The Last of Us\\xa0\\xa0(Jet Black, Extra Dual Shock 4 Controller)',\n",
       "  'SONY PlayStation 4 (PS4) 1 TB with FIFA 19\\xa0\\xa0(Jet Black)',\n",
       "  'SONY PlayStation 4 (PS4) Slim 1 TB with Call of Duty: Black Ops 4\\xa0\\xa0(Jet Black)',\n",
       "  'SONY PlayStation 4 (PS4) Slim 1 TB with The Last of Us and Uncharted 4\\xa0\\xa0(Jet Black)',\n",
       "  'SONY PlayStation 4 (PS4) Slim 1 TB\\xa0\\xa0(Jet Black, Additional DualShock 4 Controller)'],\n",
       " 'price': ['₹54,990',\n",
       "  '₹44,990',\n",
       "  '₹48,190',\n",
       "  '₹58,990',\n",
       "  '₹62,990',\n",
       "  '₹62,599',\n",
       "  '₹38,900',\n",
       "  '₹33,990',\n",
       "  '₹32,990',\n",
       "  '₹37,900',\n",
       "  '₹4,999',\n",
       "  '₹3,247',\n",
       "  '₹1,313',\n",
       "  '₹38,900',\n",
       "  '₹1,486',\n",
       "  '₹1,467',\n",
       "  '₹1,436',\n",
       "  '₹37,900',\n",
       "  '₹38,900',\n",
       "  '₹38,900',\n",
       "  '₹37,900',\n",
       "  '₹54,990',\n",
       "  '₹27,990',\n",
       "  '₹25,399',\n",
       "  '₹27,622',\n",
       "  '₹28,790',\n",
       "  '₹28,990',\n",
       "  '₹28,990',\n",
       "  '₹27,508',\n",
       "  '₹28,999',\n",
       "  '₹27,990',\n",
       "  '₹31,242',\n",
       "  '₹32,290',\n",
       "  '₹29,199',\n",
       "  '₹32,990',\n",
       "  '₹33,490',\n",
       "  '₹33,465',\n",
       "  '₹32,290',\n",
       "  '₹32,990',\n",
       "  '₹32,290']}"
      ]
     },
     "execution_count": 37,
     "metadata": {},
     "output_type": "execute_result"
    }
   ],
   "source": [
    "d"
   ]
  },
  {
   "cell_type": "code",
   "execution_count": null,
   "id": "bae1472b",
   "metadata": {},
   "outputs": [],
   "source": []
  }
 ],
 "metadata": {
  "kernelspec": {
   "display_name": "Python 3 (ipykernel)",
   "language": "python",
   "name": "python3"
  },
  "language_info": {
   "codemirror_mode": {
    "name": "ipython",
    "version": 3
   },
   "file_extension": ".py",
   "mimetype": "text/x-python",
   "name": "python",
   "nbconvert_exporter": "python",
   "pygments_lexer": "ipython3",
   "version": "3.11.4"
  }
 },
 "nbformat": 4,
 "nbformat_minor": 5
}
